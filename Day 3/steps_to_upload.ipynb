{
 "cells": [
  {
   "cell_type": "markdown",
   "metadata": {},
   "source": [
    "## Steps to upload assignments on Github \n",
    "\n",
    "1) Log into Github.com.<br>\n",
    "2) Create a Github profile.<br>\n",
    "3) Click on create a new repository.<br>\n",
    "4) Name it LetsUpgrade AI-ML.<br>\n",
    "5) Add description if needed.<br>\n",
    "6) Click on create  repository.<br>\n",
    "7) Click on upload a existing file.<br>\n",
    "8) Select the folder from our device to upload.<br>\n",
    "9) Click on commit changes.<br>\n",
    "10) Copy the link of our  github repository.<br>\n",
    "11) Open the google form link form letsupgrade to upload the assignment .<br>\n",
    "12) Fill the data.<br>\n",
    "13) Paste the github link on the form.<br>\n",
    "14) Click on submit.<br>"
   ]
  },
  {
   "cell_type": "code",
   "execution_count": null,
   "metadata": {},
   "outputs": [],
   "source": []
  }
 ],
 "metadata": {
  "kernelspec": {
   "display_name": "Python 3",
   "language": "python",
   "name": "python3"
  },
  "language_info": {
   "codemirror_mode": {
    "name": "ipython",
    "version": 3
   },
   "file_extension": ".py",
   "mimetype": "text/x-python",
   "name": "python",
   "nbconvert_exporter": "python",
   "pygments_lexer": "ipython3",
   "version": "3.7.6"
  }
 },
 "nbformat": 4,
 "nbformat_minor": 4
}
