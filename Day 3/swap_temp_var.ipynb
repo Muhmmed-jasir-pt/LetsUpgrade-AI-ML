{
 "cells": [
  {
   "cell_type": "code",
   "execution_count": 1,
   "metadata": {},
   "outputs": [
    {
     "name": "stdout",
     "output_type": "stream",
     "text": [
      "Enter the first number  12\n",
      "Enter the second number 13\n",
      "After swaping first number is  13.0 and second number is 12.0\n"
     ]
    }
   ],
   "source": [
    "a=float(input(\"Enter the first number  \"))\n",
    "b=float(input(\"Enter the second number \"))\n",
    "c=b\n",
    "b=a\n",
    "\n",
    "print(\"After swaping first number is \",c,\"and second number is\",b)"
   ]
  },
  {
   "cell_type": "code",
   "execution_count": null,
   "metadata": {},
   "outputs": [],
   "source": []
  }
 ],
 "metadata": {
  "kernelspec": {
   "display_name": "Python 3",
   "language": "python",
   "name": "python3"
  },
  "language_info": {
   "codemirror_mode": {
    "name": "ipython",
    "version": 3
   },
   "file_extension": ".py",
   "mimetype": "text/x-python",
   "name": "python",
   "nbconvert_exporter": "python",
   "pygments_lexer": "ipython3",
   "version": "3.7.6"
  }
 },
 "nbformat": 4,
 "nbformat_minor": 4
}
