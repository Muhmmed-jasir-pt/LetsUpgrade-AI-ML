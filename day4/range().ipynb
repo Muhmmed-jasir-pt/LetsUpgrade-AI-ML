{
 "cells": [
  {
   "cell_type": "markdown",
   "metadata": {},
   "source": [
    "# ___range() function___\n",
    "\n",
    "It is function used in python to print a range of values with in a specified range .We declare the range inside the parentheses .Suppose we declared it as n the funtcion will write the values from 0 to (n-1).It is generally used with loops.range() has 3 parameters such as start index,end index and step size.Start index indicates the starting position ,stop index indicates stopping position and step size define the value to be added with preceeding number .Consider the following example range(9,16,2).Here the starting index is 9 , end index is 1 and step size is 2.The output will be 9,11,13,15."
   ]
  },
  {
   "cell_type": "code",
   "execution_count": null,
   "metadata": {},
   "outputs": [],
   "source": []
  }
 ],
 "metadata": {
  "kernelspec": {
   "display_name": "Python 3",
   "language": "python",
   "name": "python3"
  },
  "language_info": {
   "codemirror_mode": {
    "name": "ipython",
    "version": 3
   },
   "file_extension": ".py",
   "mimetype": "text/x-python",
   "name": "python",
   "nbconvert_exporter": "python",
   "pygments_lexer": "ipython3",
   "version": "3.7.6"
  }
 },
 "nbformat": 4,
 "nbformat_minor": 4
}
