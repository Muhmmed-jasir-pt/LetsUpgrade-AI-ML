{
 "cells": [
  {
   "cell_type": "code",
   "execution_count": 6,
   "metadata": {},
   "outputs": [
    {
     "name": "stdout",
     "output_type": "stream",
     "text": [
      "Enter the first complex number    3-9j\n",
      "Enter the second complex number   4-8j\n",
      "Enter the operation + / - / * / / /\n",
      "(1.05-0.15j)\n"
     ]
    }
   ],
   "source": [
    "a=complex(input(\"Enter the first complex number    \"))\n",
    "b=complex(input(\"Enter the second complex number   \"))\n",
    "c=input(\"Enter the operation + / - / * / / \")\n",
    "if c==\"+\":\n",
    "    print(a+b)\n",
    "elif c==\"-\":\n",
    "    print(a-b)\n",
    "elif c==\"*\":\n",
    "    print(a*b)\n",
    "else:\n",
    "    print(a/b)\n",
    "        \n",
    "    "
   ]
  },
  {
   "cell_type": "markdown",
   "metadata": {},
   "source": [
    "__::-__  Floor division and modulus operations are not directly possible on complex numbers.\n",
    "Phython will treat it as an error.We can perform it by writing a code for it .Addition , substraction,multiplication and division are possible."
   ]
  },
  {
   "cell_type": "code",
   "execution_count": null,
   "metadata": {},
   "outputs": [],
   "source": []
  }
 ],
 "metadata": {
  "kernelspec": {
   "display_name": "Python 3",
   "language": "python",
   "name": "python3"
  },
  "language_info": {
   "codemirror_mode": {
    "name": "ipython",
    "version": 3
   },
   "file_extension": ".py",
   "mimetype": "text/x-python",
   "name": "python",
   "nbconvert_exporter": "python",
   "pygments_lexer": "ipython3",
   "version": "3.7.6"
  }
 },
 "nbformat": 4,
 "nbformat_minor": 4
}
