{
 "cells": [
  {
   "cell_type": "code",
   "execution_count": 3,
   "metadata": {},
   "outputs": [
    {
     "name": "stdout",
     "output_type": "stream",
     "text": [
      "{'jasir', 'ingle', 'darshan'}\n",
      "jasir\n",
      "ingle\n",
      "darshan\n",
      "{'jasir', 'ingle', 'darshan', 'orange'}\n",
      "{'jasir', 'ingle', 'darshan', 'grapes', 'orange', 'mango'}\n"
     ]
    }
   ],
   "source": [
    "#printing a set\n",
    "aset = {\"jasir\", \"ingle\", \"darshan\"}\n",
    "print(aset)\n",
    "#itrating through a set\n",
    "for i in aset:\n",
    "    print(i)\n",
    "#add and item to a set\n",
    "aset.add(\"orange\")\n",
    "print(aset)\n",
    "#add multiple items to a set\n",
    "aset.update([\"orange\", \"mango\", \"grapes\"])\n",
    "print(aset)"
   ]
  },
  {
   "cell_type": "code",
   "execution_count": null,
   "metadata": {},
   "outputs": [],
   "source": []
  }
 ],
 "metadata": {
  "kernelspec": {
   "display_name": "Python 3",
   "language": "python",
   "name": "python3"
  },
  "language_info": {
   "codemirror_mode": {
    "name": "ipython",
    "version": 3
   },
   "file_extension": ".py",
   "mimetype": "text/x-python",
   "name": "python",
   "nbconvert_exporter": "python",
   "pygments_lexer": "ipython3",
   "version": "3.7.6"
  }
 },
 "nbformat": 4,
 "nbformat_minor": 4
}
