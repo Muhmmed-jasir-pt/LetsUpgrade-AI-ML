{
 "cells": [
  {
   "cell_type": "code",
   "execution_count": 10,
   "metadata": {},
   "outputs": [
    {
     "name": "stdout",
     "output_type": "stream",
     "text": [
      "Enter the string kasim ali\n",
      "kasim ali\n",
      "KASIM ALI\n",
      "kasim ali\n",
      "Kasim ali\n",
      "     kasim ali      \n",
      "2\n",
      "False\n",
      "5\n",
      "False\n",
      "False\n",
      "False\n",
      "True\n",
      "['kas', 'm al', '']\n",
      "KASIM ALI\n",
      "False\n"
     ]
    }
   ],
   "source": [
    "a=input(\"Enter the string \")\n",
    "print(a.lower())\n",
    "print(a.upper())\n",
    "print(a.casefold())\n",
    "print(a.capitalize())\n",
    "print(a.center(20))\n",
    "print(a.count('i'))\n",
    "print(a.endswith('r'))\n",
    "print(a.index(' '))\n",
    "print(a.isalpha())\n",
    "print(a.isdecimal())\n",
    "print(a.isnumeric())\n",
    "print(a.islower())\n",
    "print(a.rsplit(\"i\"))\n",
    "print(a.swapcase())\n",
    "print(a.isidentifier())\n"
   ]
  },
  {
   "cell_type": "code",
   "execution_count": null,
   "metadata": {},
   "outputs": [],
   "source": []
  }
 ],
 "metadata": {
  "kernelspec": {
   "display_name": "Python 3",
   "language": "python",
   "name": "python3"
  },
  "language_info": {
   "codemirror_mode": {
    "name": "ipython",
    "version": 3
   },
   "file_extension": ".py",
   "mimetype": "text/x-python",
   "name": "python",
   "nbconvert_exporter": "python",
   "pygments_lexer": "ipython3",
   "version": "3.7.6"
  }
 },
 "nbformat": 4,
 "nbformat_minor": 4
}
