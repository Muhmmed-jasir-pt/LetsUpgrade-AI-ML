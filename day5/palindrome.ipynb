{
 "cells": [
  {
   "cell_type": "code",
   "execution_count": 30,
   "metadata": {},
   "outputs": [
    {
     "name": "stdout",
     "output_type": "stream",
     "text": [
      "Enter the word leel\n",
      "It is a palindrome\n"
     ]
    }
   ],
   "source": [
    "def Palindrome(s): \n",
    "    return s == s[::-1] \n",
    "   \n",
    "s = input(\"Enter the word \")\n",
    "ans = Palindrome(s) \n",
    "  \n",
    "if ans: \n",
    "    print(\"It is a palindrome\") \n",
    "elif (sorted(s)== sorted(s)):\n",
    "    print(\"The string is anagrams.\") \n",
    "else:\n",
    "    print(\"It is not angram or palindrome\")\n",
    "   "
   ]
  },
  {
   "cell_type": "code",
   "execution_count": null,
   "metadata": {},
   "outputs": [],
   "source": []
  },
  {
   "cell_type": "code",
   "execution_count": null,
   "metadata": {},
   "outputs": [],
   "source": []
  }
 ],
 "metadata": {
  "kernelspec": {
   "display_name": "Python 3",
   "language": "python",
   "name": "python3"
  },
  "language_info": {
   "codemirror_mode": {
    "name": "ipython",
    "version": 3
   },
   "file_extension": ".py",
   "mimetype": "text/x-python",
   "name": "python",
   "nbconvert_exporter": "python",
   "pygments_lexer": "ipython3",
   "version": "3.7.6"
  }
 },
 "nbformat": 4,
 "nbformat_minor": 4
}
