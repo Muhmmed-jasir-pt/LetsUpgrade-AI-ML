{
 "cells": [
  {
   "cell_type": "markdown",
   "metadata": {},
   "source": [
    "**10 HYPOTHESIS STATMENTS**"
   ]
  },
  {
   "cell_type": "markdown",
   "metadata": {},
   "source": [
    "1)Men has more salary than women.\n",
    "2)Attrition rate is more for emoloyees having low experience.\n",
    "3)Attrition rate is more for emoloyees having business travel non-travel.\n",
    "4)Attrition rate is more in women employees.\n",
    "5)Salary is more for employees have more job involment.\n",
    "6)Female employees with marital status married has more attrition.\n",
    "7)Female employees with married status divorced has low attrition.\n",
    "8)Employees with mean salary greater than 40000 has no attrition.\n",
    "9)Employees with salary hike above 13 only has attrition.\n",
    "10"
   ]
  }
 ],
 "metadata": {
  "kernelspec": {
   "display_name": "Python 3",
   "language": "python",
   "name": "python3"
  },
  "language_info": {
   "codemirror_mode": {
    "name": "ipython",
    "version": 3
   },
   "file_extension": ".py",
   "mimetype": "text/x-python",
   "name": "python",
   "nbconvert_exporter": "python",
   "pygments_lexer": "ipython3",
   "version": "3.7.6"
  }
 },
 "nbformat": 4,
 "nbformat_minor": 4
}
